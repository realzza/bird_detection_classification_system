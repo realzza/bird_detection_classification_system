{
 "cells": [
  {
   "cell_type": "code",
   "execution_count": 5,
   "metadata": {},
   "outputs": [],
   "source": [
    "import numpy as np\n",
    "import pandas as pd\n",
    "import os"
   ]
  },
  {
   "cell_type": "code",
   "execution_count": 10,
   "metadata": {},
   "outputs": [],
   "source": [
    "index_val = '/DATA1/ziang/index/guangdong26/train_utt2wav_h5'\n",
    "bird_dir = '/Netdata/2020/ziang/data/guangdong_28/dataset/audio/'\n",
    "birdTitles = os.listdir(bird_dir)\n",
    "birdCount = {x:0 for x in birdTitles}\n",
    "text = \"\"\n",
    "with open(index_val, 'r') as f:\n",
    "    for line in f:\n",
    "        cur_header = '_'.join(line.split('/')[-1].split('_')[:2])\n",
    "        if birdCount[cur_header] < 5:\n",
    "            text += line\n",
    "            birdCount[cur_header] += 1\n",
    "#             print(line)"
   ]
  },
  {
   "cell_type": "code",
   "execution_count": 11,
   "metadata": {},
   "outputs": [],
   "source": [
    "# create utt2wav\n",
    "index_dir = '/DATA1/ziang/index/guangdong26/'\n",
    "with open(index_dir+'demo_utt2wav','w') as f:\n",
    "    f.write(text)"
   ]
  },
  {
   "cell_type": "code",
   "execution_count": 14,
   "metadata": {},
   "outputs": [],
   "source": [
    "# create utt2label\n",
    "index_path = '/DATA1/ziang/index/guangdong26/demo_utt2wav'\n",
    "text = \"\"\n",
    "with open(index_path,'r') as f:\n",
    "    for line in f:\n",
    "        cur_header = '_'.join(line.split('/')[-1].split('_')[:2])\n",
    "        textTmp = line.split()[0] + ' ' + cur_header + '\\n'\n",
    "        text += textTmp\n",
    "\n",
    "with open('/DATA1/ziang/index/guangdong26/demo_utt2label', 'w') as f:\n",
    "    f.write(text)"
   ]
  },
  {
   "cell_type": "code",
   "execution_count": 3,
   "metadata": {},
   "outputs": [],
   "source": [
    "# check shape\n",
    "import os\n",
    "import numpy as np\n",
    "import pandas as pd\n",
    "import json\n",
    "from tqdm import tqdm\n",
    "import h5py"
   ]
  },
  {
   "cell_type": "code",
   "execution_count": 4,
   "metadata": {},
   "outputs": [
    {
     "name": "stderr",
     "output_type": "stream",
     "text": [
      " 36%|███▌      | 63/176 [02:49<07:26,  3.96s/it]"
     ]
    },
    {
     "name": "stdout",
     "output_type": "stream",
     "text": [
      "(50, 256)\n",
      "(150, 256)\n",
      "(450, 256)\n"
     ]
    },
    {
     "name": "stderr",
     "output_type": "stream",
     "text": [
      " 38%|███▊      | 66/176 [02:54<06:01,  3.28s/it]"
     ]
    },
    {
     "name": "stdout",
     "output_type": "stream",
     "text": [
      "(350, 256)\n"
     ]
    },
    {
     "name": "stderr",
     "output_type": "stream",
     "text": [
      "100%|██████████| 176/176 [07:48<00:00,  2.66s/it]\n"
     ]
    }
   ],
   "source": [
    "h5_dir = '/DATA1/ziang/data/large/higher/train_h5/'\n",
    "all_birds = os.listdir(h5_dir)\n",
    "report = \"\"\n",
    "for bird in tqdm(all_birds):\n",
    "    tmp_all = [h5_dir+bird+'/'+x for x in os.listdir(h5_dir+bird)]\n",
    "    for seg in tmp_all:\n",
    "        hf = h5py.File(seg,'r')\n",
    "        feat = np.array(hf.get('logfbank'))\n",
    "        if feat.shape[0] != 499:\n",
    "            report = report + seg +'\\n'\n",
    "            print(feat.shape)"
   ]
  },
  {
   "cell_type": "code",
   "execution_count": 6,
   "metadata": {},
   "outputs": [
    {
     "name": "stdout",
     "output_type": "stream",
     "text": [
      "/DATA1/ziang/data/large/higher/train_h5/JapaneseThrush/JapaneseThrush_191387_seg_15.wav.h5\n",
      "/DATA1/ziang/data/large/higher/train_h5/JapaneseThrush/JapaneseThrush_191387_seg_14.wav.h5\n",
      "/DATA1/ziang/data/large/higher/train_h5/JapaneseThrush/JapaneseThrush_191387_seg_11.wav.h5\n",
      "/DATA1/ziang/data/large/higher/train_h5/JapaneseThrush/JapaneseThrush_191387_seg_12.wav.h5\n",
      "\n"
     ]
    }
   ],
   "source": [
    "print(report)"
   ]
  },
  {
   "cell_type": "code",
   "execution_count": 7,
   "metadata": {},
   "outputs": [],
   "source": [
    "files_del = report[:-1].split('\\n')\n",
    "for file in files_del:\n",
    "    os.remove(file)"
   ]
  },
  {
   "cell_type": "code",
   "execution_count": null,
   "metadata": {},
   "outputs": [],
   "source": []
  }
 ],
 "metadata": {
  "kernelspec": {
   "display_name": "Python 3",
   "language": "python",
   "name": "python3"
  },
  "language_info": {
   "codemirror_mode": {
    "name": "ipython",
    "version": 3
   },
   "file_extension": ".py",
   "mimetype": "text/x-python",
   "name": "python",
   "nbconvert_exporter": "python",
   "pygments_lexer": "ipython3",
   "version": "3.7.6"
  }
 },
 "nbformat": 4,
 "nbformat_minor": 4
}
